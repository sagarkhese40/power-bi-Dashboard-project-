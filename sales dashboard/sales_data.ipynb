{
 "cells": [
  {
   "cell_type": "code",
   "execution_count": 1,
   "id": "59984287-d540-47f7-9f77-a85913e21657",
   "metadata": {},
   "outputs": [],
   "source": [
    "import pandas as pd\n"
   ]
  },
  {
   "cell_type": "code",
   "execution_count": 7,
   "id": "9f08b2b3-f103-407a-9d8f-900c5bdb668e",
   "metadata": {},
   "outputs": [
    {
     "data": {
      "text/html": [
       "<div>\n",
       "<style scoped>\n",
       "    .dataframe tbody tr th:only-of-type {\n",
       "        vertical-align: middle;\n",
       "    }\n",
       "\n",
       "    .dataframe tbody tr th {\n",
       "        vertical-align: top;\n",
       "    }\n",
       "\n",
       "    .dataframe thead th {\n",
       "        text-align: right;\n",
       "    }\n",
       "</style>\n",
       "<table border=\"1\" class=\"dataframe\">\n",
       "  <thead>\n",
       "    <tr style=\"text-align: right;\">\n",
       "      <th></th>\n",
       "      <th>Order ID</th>\n",
       "      <th>Order Date</th>\n",
       "      <th>CustomerName</th>\n",
       "      <th>State</th>\n",
       "      <th>City</th>\n",
       "    </tr>\n",
       "  </thead>\n",
       "  <tbody>\n",
       "    <tr>\n",
       "      <th>0</th>\n",
       "      <td>B-26055</td>\n",
       "      <td>10-03-2018</td>\n",
       "      <td>Harivansh</td>\n",
       "      <td>Uttar Pradesh</td>\n",
       "      <td>Mathura</td>\n",
       "    </tr>\n",
       "    <tr>\n",
       "      <th>1</th>\n",
       "      <td>B-25993</td>\n",
       "      <td>03-02-2018</td>\n",
       "      <td>Madhav</td>\n",
       "      <td>Delhi</td>\n",
       "      <td>Delhi</td>\n",
       "    </tr>\n",
       "    <tr>\n",
       "      <th>2</th>\n",
       "      <td>B-25973</td>\n",
       "      <td>24-01-2018</td>\n",
       "      <td>Madan Mohan</td>\n",
       "      <td>Uttar Pradesh</td>\n",
       "      <td>Mathura</td>\n",
       "    </tr>\n",
       "    <tr>\n",
       "      <th>3</th>\n",
       "      <td>B-25923</td>\n",
       "      <td>27-12-2018</td>\n",
       "      <td>Gopal</td>\n",
       "      <td>Maharashtra</td>\n",
       "      <td>Mumbai</td>\n",
       "    </tr>\n",
       "    <tr>\n",
       "      <th>4</th>\n",
       "      <td>B-25757</td>\n",
       "      <td>21-08-2018</td>\n",
       "      <td>Vishakha</td>\n",
       "      <td>Madhya Pradesh</td>\n",
       "      <td>Indore</td>\n",
       "    </tr>\n",
       "  </tbody>\n",
       "</table>\n",
       "</div>"
      ],
      "text/plain": [
       "  Order ID  Order Date CustomerName           State     City\n",
       "0  B-26055  10-03-2018    Harivansh   Uttar Pradesh  Mathura\n",
       "1  B-25993  03-02-2018       Madhav           Delhi    Delhi\n",
       "2  B-25973  24-01-2018  Madan Mohan   Uttar Pradesh  Mathura\n",
       "3  B-25923  27-12-2018        Gopal     Maharashtra   Mumbai\n",
       "4  B-25757  21-08-2018     Vishakha  Madhya Pradesh   Indore"
      ]
     },
     "execution_count": 7,
     "metadata": {},
     "output_type": "execute_result"
    }
   ],
   "source": [
    "details_df =pd.read_csv(\"D:/power bi/Details.csv\")\n",
    "order_df =pd.read_csv(\"D:/power bi/Orders.csv\")\n",
    "order_df.head()"
   ]
  },
  {
   "cell_type": "code",
   "execution_count": 9,
   "id": "b2af5ff8-1057-4f70-9666-a4b030695441",
   "metadata": {},
   "outputs": [
    {
     "data": {
      "text/html": [
       "<div>\n",
       "<style scoped>\n",
       "    .dataframe tbody tr th:only-of-type {\n",
       "        vertical-align: middle;\n",
       "    }\n",
       "\n",
       "    .dataframe tbody tr th {\n",
       "        vertical-align: top;\n",
       "    }\n",
       "\n",
       "    .dataframe thead th {\n",
       "        text-align: right;\n",
       "    }\n",
       "</style>\n",
       "<table border=\"1\" class=\"dataframe\">\n",
       "  <thead>\n",
       "    <tr style=\"text-align: right;\">\n",
       "      <th></th>\n",
       "      <th>Order ID</th>\n",
       "      <th>Amount</th>\n",
       "      <th>Profit</th>\n",
       "      <th>Quantity</th>\n",
       "      <th>Category</th>\n",
       "      <th>Sub-Category</th>\n",
       "      <th>PaymentMode</th>\n",
       "    </tr>\n",
       "  </thead>\n",
       "  <tbody>\n",
       "    <tr>\n",
       "      <th>0</th>\n",
       "      <td>B-25681</td>\n",
       "      <td>1096</td>\n",
       "      <td>658</td>\n",
       "      <td>7</td>\n",
       "      <td>Electronics</td>\n",
       "      <td>Electronic Games</td>\n",
       "      <td>COD</td>\n",
       "    </tr>\n",
       "    <tr>\n",
       "      <th>1</th>\n",
       "      <td>B-26055</td>\n",
       "      <td>5729</td>\n",
       "      <td>64</td>\n",
       "      <td>14</td>\n",
       "      <td>Furniture</td>\n",
       "      <td>Chairs</td>\n",
       "      <td>EMI</td>\n",
       "    </tr>\n",
       "    <tr>\n",
       "      <th>2</th>\n",
       "      <td>B-25955</td>\n",
       "      <td>2927</td>\n",
       "      <td>146</td>\n",
       "      <td>8</td>\n",
       "      <td>Furniture</td>\n",
       "      <td>Bookcases</td>\n",
       "      <td>EMI</td>\n",
       "    </tr>\n",
       "    <tr>\n",
       "      <th>3</th>\n",
       "      <td>B-26093</td>\n",
       "      <td>2847</td>\n",
       "      <td>712</td>\n",
       "      <td>8</td>\n",
       "      <td>Electronics</td>\n",
       "      <td>Printers</td>\n",
       "      <td>Credit Card</td>\n",
       "    </tr>\n",
       "    <tr>\n",
       "      <th>4</th>\n",
       "      <td>B-25602</td>\n",
       "      <td>2617</td>\n",
       "      <td>1151</td>\n",
       "      <td>4</td>\n",
       "      <td>Electronics</td>\n",
       "      <td>Phones</td>\n",
       "      <td>Credit Card</td>\n",
       "    </tr>\n",
       "  </tbody>\n",
       "</table>\n",
       "</div>"
      ],
      "text/plain": [
       "  Order ID  Amount  Profit  Quantity     Category      Sub-Category  \\\n",
       "0  B-25681    1096     658         7  Electronics  Electronic Games   \n",
       "1  B-26055    5729      64        14    Furniture            Chairs   \n",
       "2  B-25955    2927     146         8    Furniture         Bookcases   \n",
       "3  B-26093    2847     712         8  Electronics          Printers   \n",
       "4  B-25602    2617    1151         4  Electronics            Phones   \n",
       "\n",
       "   PaymentMode  \n",
       "0          COD  \n",
       "1          EMI  \n",
       "2          EMI  \n",
       "3  Credit Card  \n",
       "4  Credit Card  "
      ]
     },
     "execution_count": 9,
     "metadata": {},
     "output_type": "execute_result"
    }
   ],
   "source": [
    "details_df.head()"
   ]
  },
  {
   "cell_type": "code",
   "execution_count": 17,
   "id": "4526c01b-3f8e-49ea-8251-15b189afc477",
   "metadata": {},
   "outputs": [
    {
     "data": {
      "text/html": [
       "<div>\n",
       "<style scoped>\n",
       "    .dataframe tbody tr th:only-of-type {\n",
       "        vertical-align: middle;\n",
       "    }\n",
       "\n",
       "    .dataframe tbody tr th {\n",
       "        vertical-align: top;\n",
       "    }\n",
       "\n",
       "    .dataframe thead th {\n",
       "        text-align: right;\n",
       "    }\n",
       "</style>\n",
       "<table border=\"1\" class=\"dataframe\">\n",
       "  <thead>\n",
       "    <tr style=\"text-align: right;\">\n",
       "      <th></th>\n",
       "      <th>Order ID</th>\n",
       "      <th>Amount</th>\n",
       "      <th>Profit</th>\n",
       "      <th>Quantity</th>\n",
       "      <th>Category</th>\n",
       "      <th>Sub-Category</th>\n",
       "      <th>PaymentMode</th>\n",
       "      <th>Order Date</th>\n",
       "      <th>CustomerName</th>\n",
       "      <th>State</th>\n",
       "      <th>City</th>\n",
       "    </tr>\n",
       "  </thead>\n",
       "  <tbody>\n",
       "    <tr>\n",
       "      <th>0</th>\n",
       "      <td>B-25681</td>\n",
       "      <td>1096</td>\n",
       "      <td>658</td>\n",
       "      <td>7</td>\n",
       "      <td>Electronics</td>\n",
       "      <td>Electronic Games</td>\n",
       "      <td>COD</td>\n",
       "      <td>04-06-2018</td>\n",
       "      <td>Bhawna</td>\n",
       "      <td>Madhya Pradesh</td>\n",
       "      <td>Indore</td>\n",
       "    </tr>\n",
       "    <tr>\n",
       "      <th>1</th>\n",
       "      <td>B-26055</td>\n",
       "      <td>5729</td>\n",
       "      <td>64</td>\n",
       "      <td>14</td>\n",
       "      <td>Furniture</td>\n",
       "      <td>Chairs</td>\n",
       "      <td>EMI</td>\n",
       "      <td>10-03-2018</td>\n",
       "      <td>Harivansh</td>\n",
       "      <td>Uttar Pradesh</td>\n",
       "      <td>Mathura</td>\n",
       "    </tr>\n",
       "    <tr>\n",
       "      <th>2</th>\n",
       "      <td>B-25955</td>\n",
       "      <td>2927</td>\n",
       "      <td>146</td>\n",
       "      <td>8</td>\n",
       "      <td>Furniture</td>\n",
       "      <td>Bookcases</td>\n",
       "      <td>EMI</td>\n",
       "      <td>16-01-2018</td>\n",
       "      <td>Shiva</td>\n",
       "      <td>Maharashtra</td>\n",
       "      <td>Pune</td>\n",
       "    </tr>\n",
       "    <tr>\n",
       "      <th>3</th>\n",
       "      <td>B-26093</td>\n",
       "      <td>2847</td>\n",
       "      <td>712</td>\n",
       "      <td>8</td>\n",
       "      <td>Electronics</td>\n",
       "      <td>Printers</td>\n",
       "      <td>Credit Card</td>\n",
       "      <td>27-03-2018</td>\n",
       "      <td>Sarita</td>\n",
       "      <td>Maharashtra</td>\n",
       "      <td>Pune</td>\n",
       "    </tr>\n",
       "    <tr>\n",
       "      <th>4</th>\n",
       "      <td>B-25602</td>\n",
       "      <td>2617</td>\n",
       "      <td>1151</td>\n",
       "      <td>4</td>\n",
       "      <td>Electronics</td>\n",
       "      <td>Phones</td>\n",
       "      <td>Credit Card</td>\n",
       "      <td>01-04-2018</td>\n",
       "      <td>Vrinda</td>\n",
       "      <td>Maharashtra</td>\n",
       "      <td>Pune</td>\n",
       "    </tr>\n",
       "  </tbody>\n",
       "</table>\n",
       "</div>"
      ],
      "text/plain": [
       "  Order ID  Amount  Profit  Quantity     Category      Sub-Category  \\\n",
       "0  B-25681    1096     658         7  Electronics  Electronic Games   \n",
       "1  B-26055    5729      64        14    Furniture            Chairs   \n",
       "2  B-25955    2927     146         8    Furniture         Bookcases   \n",
       "3  B-26093    2847     712         8  Electronics          Printers   \n",
       "4  B-25602    2617    1151         4  Electronics            Phones   \n",
       "\n",
       "   PaymentMode  Order Date CustomerName           State     City  \n",
       "0          COD  04-06-2018       Bhawna  Madhya Pradesh   Indore  \n",
       "1          EMI  10-03-2018    Harivansh   Uttar Pradesh  Mathura  \n",
       "2          EMI  16-01-2018        Shiva     Maharashtra     Pune  \n",
       "3  Credit Card  27-03-2018       Sarita     Maharashtra     Pune  \n",
       "4  Credit Card  01-04-2018       Vrinda     Maharashtra     Pune  "
      ]
     },
     "execution_count": 17,
     "metadata": {},
     "output_type": "execute_result"
    }
   ],
   "source": [
    "sales_df =pd.merge(details_df,order_df , on=\"Order ID\", how =\"inner\")\n",
    "sales_df.head()"
   ]
  },
  {
   "cell_type": "code",
   "execution_count": 21,
   "id": "bce346ce-8024-4751-8f7f-870a51e35a51",
   "metadata": {},
   "outputs": [
    {
     "name": "stdout",
     "output_type": "stream",
     "text": [
      "<class 'pandas.core.frame.DataFrame'>\n",
      "RangeIndex: 1500 entries, 0 to 1499\n",
      "Data columns (total 11 columns):\n",
      " #   Column        Non-Null Count  Dtype \n",
      "---  ------        --------------  ----- \n",
      " 0   Order ID      1500 non-null   object\n",
      " 1   Amount        1500 non-null   int64 \n",
      " 2   Profit        1500 non-null   int64 \n",
      " 3   Quantity      1500 non-null   int64 \n",
      " 4   Category      1500 non-null   object\n",
      " 5   Sub-Category  1500 non-null   object\n",
      " 6   PaymentMode   1500 non-null   object\n",
      " 7   Order Date    1500 non-null   object\n",
      " 8   CustomerName  1500 non-null   object\n",
      " 9   State         1500 non-null   object\n",
      " 10  City          1500 non-null   object\n",
      "dtypes: int64(3), object(8)\n",
      "memory usage: 129.0+ KB\n"
     ]
    }
   ],
   "source": [
    "sales_df.info()"
   ]
  },
  {
   "cell_type": "code",
   "execution_count": 27,
   "id": "2b4b2fe0-21f0-41e1-9558-103d84b3988c",
   "metadata": {},
   "outputs": [
    {
     "data": {
      "text/plain": [
       "(1500, 11)"
      ]
     },
     "execution_count": 27,
     "metadata": {},
     "output_type": "execute_result"
    }
   ],
   "source": [
    "sales_df.shape"
   ]
  },
  {
   "cell_type": "code",
   "execution_count": 29,
   "id": "16397096-5e28-466d-8e4e-2cd90448948b",
   "metadata": {},
   "outputs": [
    {
     "data": {
      "text/plain": [
       "Order ID        0\n",
       "Amount          0\n",
       "Profit          0\n",
       "Quantity        0\n",
       "Category        0\n",
       "Sub-Category    0\n",
       "PaymentMode     0\n",
       "Order Date      0\n",
       "CustomerName    0\n",
       "State           0\n",
       "City            0\n",
       "dtype: int64"
      ]
     },
     "execution_count": 29,
     "metadata": {},
     "output_type": "execute_result"
    }
   ],
   "source": [
    "sales_df.isnull().sum()"
   ]
  },
  {
   "cell_type": "code",
   "execution_count": 31,
   "id": "99e40d37-b43f-4b0f-8f94-7eda3b7a7b28",
   "metadata": {},
   "outputs": [
    {
     "data": {
      "text/plain": [
       "<bound method NDFrame.describe of      Order ID  Amount  Profit  Quantity     Category      Sub-Category  \\\n",
       "0     B-25681    1096     658         7  Electronics  Electronic Games   \n",
       "1     B-26055    5729      64        14    Furniture            Chairs   \n",
       "2     B-25955    2927     146         8    Furniture         Bookcases   \n",
       "3     B-26093    2847     712         8  Electronics          Printers   \n",
       "4     B-25602    2617    1151         4  Electronics            Phones   \n",
       "...       ...     ...     ...       ...          ...               ...   \n",
       "1495  B-25700       7      -3         2     Clothing       Hankerchief   \n",
       "1496  B-25757    3151     -35         7     Clothing          Trousers   \n",
       "1497  B-25973    4141    1698        13  Electronics          Printers   \n",
       "1498  B-25698       7      -2         1     Clothing       Hankerchief   \n",
       "1499  B-25993    4363     305         5    Furniture            Tables   \n",
       "\n",
       "      PaymentMode  Order Date CustomerName           State     City  \n",
       "0             COD  04-06-2018       Bhawna  Madhya Pradesh   Indore  \n",
       "1             EMI  10-03-2018    Harivansh   Uttar Pradesh  Mathura  \n",
       "2             EMI  16-01-2018        Shiva     Maharashtra     Pune  \n",
       "3     Credit Card  27-03-2018       Sarita     Maharashtra     Pune  \n",
       "4     Credit Card  01-04-2018       Vrinda     Maharashtra     Pune  \n",
       "...           ...         ...          ...             ...      ...  \n",
       "1495          COD  25-06-2018       Shubhi     Maharashtra   Mumbai  \n",
       "1496          EMI  21-08-2018     Vishakha  Madhya Pradesh   Indore  \n",
       "1497          COD  24-01-2018  Madan Mohan   Uttar Pradesh  Mathura  \n",
       "1498          COD  23-06-2018       Amisha      Tamil Nadu  Chennai  \n",
       "1499          EMI  03-02-2018       Madhav           Delhi    Delhi  \n",
       "\n",
       "[1500 rows x 11 columns]>"
      ]
     },
     "execution_count": 31,
     "metadata": {},
     "output_type": "execute_result"
    }
   ],
   "source": [
    "sales_df.describe"
   ]
  },
  {
   "cell_type": "code",
   "execution_count": 49,
   "id": "fad25ceb-f4ec-405d-a5fe-1cf01f50a50f",
   "metadata": {},
   "outputs": [],
   "source": [
    "df =pd.DataFrame(sales_df)\n",
    "df.to_csv(\"sales_data.csv\",index =False)"
   ]
  },
  {
   "cell_type": "code",
   "execution_count": 53,
   "id": "dc684f10-60f5-48c2-b508-ea7c68c80742",
   "metadata": {},
   "outputs": [],
   "source": [
    "## kpi aggregation\n",
    "Total_sales =sales_df[\"Amount\"].sum() \n",
    "Total_profit =sales_df[\"Profit\"].sum() \n",
    "Total_quantity =sales_df[\"Quantity\"].sum() \n",
    "average_order_value = sales_df[\"Amount\"].mean()"
   ]
  },
  {
   "cell_type": "code",
   "execution_count": 59,
   "id": "15f490d0-e8f4-484a-9f01-b0b4c1ef1665",
   "metadata": {},
   "outputs": [
    {
     "data": {
      "text/plain": [
       "{'Total sales ': 437771,\n",
       " 'Total_profit': 36963,\n",
       " 'Total_quantity ': 5615,\n",
       " 'avereged order ': 291.8473333333333}"
      ]
     },
     "execution_count": 59,
     "metadata": {},
     "output_type": "execute_result"
    }
   ],
   "source": [
    "sales={\n",
    "    \"Total sales \" :Total_sales,\n",
    "    \"Total_profit\" : Total_profit,\n",
    "    \"Total_quantity \" : Total_quantity,\n",
    "     \"avereged order \" : average_order_value}\n",
    "sales\n",
    "    "
   ]
  },
  {
   "cell_type": "markdown",
   "id": "99725342-077d-4581-9c5f-3f88c3887133",
   "metadata": {},
   "source": [
    "## top 5 \n"
   ]
  },
  {
   "cell_type": "code",
   "execution_count": 61,
   "id": "64c557b0-61d4-4ffc-974b-19ee3a347cfc",
   "metadata": {},
   "outputs": [],
   "source": [
    "Top_category = ( sales_df.groupby(\"Category\")[\"Amount\"].sum().sort_values(ascending=False).head(5))\n",
    "Top_subcategpry = ( sales_df.groupby(\"Sub-Category\")[\"Amount\"].sum().sort_values(ascending=False).head(5))\n",
    "Top_state = ( sales_df.groupby(\"State\")[\"Amount\"].sum().sort_values(ascending=False).head(5))\n",
    "Top_customer = ( sales_df.groupby(\"CustomerName\")[\"Amount\"].sum().sort_values(ascending=False).head(5))"
   ]
  },
  {
   "cell_type": "code",
   "execution_count": 63,
   "id": "8dd18181-8fa7-47ea-98e0-04a45b3636df",
   "metadata": {},
   "outputs": [
    {
     "data": {
      "text/plain": [
       "{'Top category ': Category\n",
       " Electronics    166267\n",
       " Clothing       144323\n",
       " Furniture      127181\n",
       " Name: Amount, dtype: int64,\n",
       " 'Top sub -category ': Sub-Category\n",
       " Printers            59252\n",
       " Saree               59094\n",
       " Bookcases           56861\n",
       " Phones              46119\n",
       " Electronic Games    39168\n",
       " Name: Amount, dtype: int64,\n",
       " 'Top state ': State\n",
       " Maharashtra       102498\n",
       " Madhya Pradesh     87463\n",
       " Uttar Pradesh      38362\n",
       " Delhi              22957\n",
       " Rajasthan          22334\n",
       " Name: Amount, dtype: int64,\n",
       " 'Top customer  ': CustomerName\n",
       " Harivansh      9902\n",
       " Madhav         9365\n",
       " Madan Mohan    7766\n",
       " Shiva          6339\n",
       " Vishakha       6120\n",
       " Name: Amount, dtype: int64}"
      ]
     },
     "execution_count": 63,
     "metadata": {},
     "output_type": "execute_result"
    }
   ],
   "source": [
    "category ={\n",
    "    \"Top category \" : Top_category,\n",
    "    \"Top sub -category \" : Top_subcategpry,\n",
    "    \"Top state \" : Top_state,\n",
    "    \"Top customer  \" : Top_customer,\n",
    "}\n",
    "category"
   ]
  },
  {
   "cell_type": "code",
   "execution_count": null,
   "id": "dd7c1d88-ac94-4dcf-be67-0a093c93e4b5",
   "metadata": {},
   "outputs": [],
   "source": []
  }
 ],
 "metadata": {
  "kernelspec": {
   "display_name": "Python [conda env:base] *",
   "language": "python",
   "name": "conda-base-py"
  },
  "language_info": {
   "codemirror_mode": {
    "name": "ipython",
    "version": 3
   },
   "file_extension": ".py",
   "mimetype": "text/x-python",
   "name": "python",
   "nbconvert_exporter": "python",
   "pygments_lexer": "ipython3",
   "version": "3.12.7"
  }
 },
 "nbformat": 4,
 "nbformat_minor": 5
}
